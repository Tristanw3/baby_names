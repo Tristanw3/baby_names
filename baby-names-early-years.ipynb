{
 "cells": [
  {
   "cell_type": "code",
   "execution_count": 1,
   "metadata": {},
   "outputs": [],
   "source": [
    "import re\n",
    "import pandas as pd\n",
    "import PyPDF2 as pdf\n",
    "import os"
   ]
  },
  {
   "cell_type": "code",
   "execution_count": 2,
   "metadata": {},
   "outputs": [
    {
     "data": {
      "text/plain": [
       "'NSW Registry of Births Deaths & Marriages - Popular Baby Names - 2009 \\nPrepared: July 2018                  P1 of 10 pages\\n2009BOYS\\nNo.\\nGIRLS\\nNo.\\n2009BOYS\\nNo.\\nGIRLS\\nNo.\\n1William\\n742Isabella\\n61651Ashton\\n190Jade\\n1302Jack656Chloe\\n60152Cameron\\n186Paige\\n1303Lachlan\\n609Charlotte\\n57053Nathan\\n182Maya\\n1284Cooper\\n598Olivia\\n56354Elijah\\n178Mikayla\\n1275Joshua\\n582Mia\\n53655Nate\\n176Ivy\\n1166Thomas\\n575Emily\\n50956Aidan\\n172Anna\\n1147Oliver\\n557Sienna\\n47857Kai\\n170Gabriella\\n1138Noah\\n545Sophie\\n47858Caleb\\n169Alexis\\n1129Ethan\\n512Ruby\\n46459Mitchell\\n167Imogen\\n11210Riley\\n504Amelia\\n46160Gabriel\\n165Sofia\\n11111James502Ella\\n45961Callum\\n162Kayla\\n11012Lucas\\n496Ava\\n44762Marcus\\n161Phoebe\\n10813Samuel\\n476Lily43263Alex\\n160Stella\\n10814Benjamin\\n462Grace\\n40664Anthony\\n160Keira\\n10615Daniel\\n427Jessica\\n34465Patrick\\n160Taylor\\n10616Liam\\n409Matilda\\n33166Hunter\\n159Eliza\\n10417Max\\n401Zoe\\n31267Andrew\\n158Amber\\n10318Alexander\\n391Hannah\\n29768Sebastian\\n157Amelie\\n10319Ryan\\n381Emma\\n26969Toby\\n155Madeline\\n10020Jacob\\n379Sarah\\n26570Hamish\\n153Alice\\n9921Isaac\\n356Jasmine\\n24971Luca\\n153Angelina\\n9922Matthew\\n350Georgia\\n24872Jett\\n147Poppy\\n9823Jayden\\n334Lucy\\n24773Zac\\n146Savannah\\n9824Charlie\\n311Zara\\n22574George\\n144Amy\\n9725Tyler\\n301Sophia\\n22175Charles\\n141Isabel\\n9726Luke\\n294Chelsea\\n22076Ali\\n139Alexandra\\n9627Jake281Isabelle\\n21977Edward\\n138Madeleine\\n9628Nicholas\\n280Madison\\n19478Jesse137Natalie\\n9629Harry\\n279Abigail\\n18879Beau\\n135Addison\\n9430Xavier\\n277Holly\\n18780Finn\\n134Lillian\\n9431Oscar\\n273Eva\\n18281Joel\\n133Rose\\n9432Dylan\\n254Lara\\n18182Christopher\\n127Kiara\\n9133Jackson\\n254Maddison\\n17883Declan\\n127Ellie\\n9034Harrison\\n248Isla\\n17184Owen\\n126Stephanie\\n8935Aiden\\n243Lilly17185Lincoln\\n125Violet\\n8936Michael\\n240Tahlia\\n16886Seth\\n123Audrey\\n8837Levi\\n222Hayley\\n16587David\\n122Skye\\n8838Connor\\n220Scarlett\\n15788Aaron\\n117Willow\\n8739Zachary\\n220Summer\\n15289Cody\\n117Talia\\n8640Bailey\\n218Elizabeth\\n15090Justin\\n117Laura\\n8541Blake\\n218Evie\\n15091Eli\\n112Gabrielle\\n8342Logan\\n218Alyssa\\n14992Hugo\\n111Katie\\n8343Christian\\n214Annabelle\\n14293John\\n111Mariam\\n8244Hayden\\n207Bella\\n13994Leo\\n110Abby\\n8145Joseph\\n203Layla\\n13895Koby\\n109Lauren\\n8146Archie\\n202Molly\\n13896Mason\\n109Abbey\\n8047Jordan\\n197Samantha\\n13697Jasper\\n108Alana\\n8048Adam\\n194Charli\\n13598Jonathan\\n108Aaliyah\\n7949Angus\\n192Caitlin\\n13299Rhys\\n103Alicia\\n7950Henry\\n191Claire\\n130100Brock\\n102Piper\\n78'"
      ]
     },
     "execution_count": 2,
     "metadata": {},
     "output_type": "execute_result"
    }
   ],
   "source": [
    "# Get Source PDFs\n",
    "direct = \"./Source/top_baby_names\"\n",
    "files_list = os.listdir(direct) \n",
    "\n",
    "files_list = ['stats-names-2000s.pdf']\n",
    "\n",
    "store = pdf.PdfFileReader(direct + '/' + files_list[0]).getPage(0)\n",
    "\n",
    "text_data = store.extractText()\n",
    "\n",
    "text_data\n"
   ]
  },
  {
   "cell_type": "code",
   "execution_count": 3,
   "metadata": {},
   "outputs": [
    {
     "ename": "NameError",
     "evalue": "name 'rank_list' is not defined",
     "output_type": "error",
     "traceback": [
      "\u001b[1;31m---------------------------------------------------------------------------\u001b[0m",
      "\u001b[1;31mNameError\u001b[0m                                 Traceback (most recent call last)",
      "\u001b[1;32m<ipython-input-3-90e6a49c5ccd>\u001b[0m in \u001b[0;36m<module>\u001b[1;34m\u001b[0m\n\u001b[0;32m      6\u001b[0m \u001b[0mranks_list\u001b[0m \u001b[1;33m=\u001b[0m \u001b[0mranks\u001b[0m\u001b[1;33m.\u001b[0m\u001b[0mfindall\u001b[0m\u001b[1;33m(\u001b[0m\u001b[0mtext_data\u001b[0m\u001b[1;33m)\u001b[0m\u001b[1;33m\u001b[0m\u001b[1;33m\u001b[0m\u001b[0m\n\u001b[0;32m      7\u001b[0m \u001b[1;33m\u001b[0m\u001b[0m\n\u001b[1;32m----> 8\u001b[1;33m \u001b[0mprint\u001b[0m\u001b[1;33m(\u001b[0m\u001b[0mlen\u001b[0m\u001b[1;33m(\u001b[0m\u001b[0mrank_list\u001b[0m\u001b[1;33m)\u001b[0m\u001b[1;33m)\u001b[0m\u001b[1;33m\u001b[0m\u001b[1;33m\u001b[0m\u001b[0m\n\u001b[0m\u001b[0;32m      9\u001b[0m \u001b[1;33m\u001b[0m\u001b[0m\n\u001b[0;32m     10\u001b[0m \u001b[0mranks_list\u001b[0m\u001b[1;33m\u001b[0m\u001b[1;33m\u001b[0m\u001b[0m\n",
      "\u001b[1;31mNameError\u001b[0m: name 'rank_list' is not defined"
     ]
    }
   ],
   "source": [
    "# Regex Pattern Creation\n",
    "year = re.compile(\"Names - (\\d+)\").findall(text_data)[0]\n",
    "\n",
    "# Ranks\n",
    "ranks = re.compile(\"\\d\\d\")\n",
    "ranks_list = ranks.findall(text_data)\n",
    "\n",
    "print(len(ranks_list))\n",
    "\n",
    "ranks_list\n",
    "\n",
    "\n"
   ]
  },
  {
   "cell_type": "code",
   "execution_count": null,
   "metadata": {},
   "outputs": [],
   "source": [
    "# Names\n",
    "names = re.compile(\"[A-Z][a-z]+\")\n",
    "names_list = names.findall(text_data)\n",
    "names_list = names_list[13:]\n",
    "if len(names_list) != 200:\n",
    "    print(\"Rank list not 200 -- check\")\n",
    "\n",
    "names_list\n",
    "    \n",
    "# names = re.compile(\"(\\w[a-z]+)\\n\\d{2}\")\n",
    "# numbers = re.compile(\"\\w\\w\\n(\\d+)\")\n",
    "\n",
    "# # Regex find \n",
    "# ranks_list = ranks.findall(text_data)\n",
    "# names_list = names.findall(text_data)\n",
    "# numbers_list = numbers.findall(text_data)"
   ]
  },
  {
   "cell_type": "code",
   "execution_count": null,
   "metadata": {},
   "outputs": [],
   "source": [
    "# # Import pdf\n",
    "# cols = [\"Rank\", \"Male_Name\", \"Male_Numbers\", \"Female_Name\", \"Female_Number\", \"Year\"]\n",
    "# total_table = []\n",
    "\n",
    "# for file in files_list:\n",
    "#     store = pdf.PdfFileReader(direct + '/' + file)\n",
    "#     num_pages = store.pages\n",
    "\n",
    "#     for p in num_pages:\n",
    "\n",
    "#         text_data = p.extractText()\n",
    "#         # Regex Pattern Creation\n",
    "#         year = re.compile(\"Names - (\\d+)\").findall(text_data)[0]\n",
    "#         ranks = re.compile(\"\\n(\\d{1,3})\\n[A-Za-z]+\\n\")\n",
    "#         names = re.compile(\"(\\w[a-z]+)\\n\\d{2}\")\n",
    "#         numbers = re.compile(\"\\w\\w\\n(\\d+)\")\n",
    "        \n",
    "#         # Regex find \n",
    "#         ranks_list = ranks.findall(text_data)\n",
    "#         names_list = names.findall(text_data)\n",
    "#         numbers_list = numbers.findall(text_data)\n",
    "\n",
    "#         table = []\n",
    "\n",
    "#         # Year of sheet\n",
    "#         for row in range(0,199,2):\n",
    "#             rows = []\n",
    "#             rows.append(ranks_list[int(row/2)])\n",
    "#             rows.append(names_list[row])\n",
    "#             rows.append(numbers_list[row])\n",
    "#             rows.append(names_list[row + 1])\n",
    "#             rows.append(numbers_list[row + 1])\n",
    "#             rows.append(year)\n",
    "#             table.append(rows)\n",
    "            \n",
    "#             total_row = []\n",
    "#             total_row.extend(rows[1:3])\n",
    "#             total_row.extend([\"Male\", year])\n",
    "#             total_table.append(total_row)\n",
    "            \n",
    "#             total_row = []\n",
    "#             total_row.extend(rows[3:5])\n",
    "#             total_row.extend([\"Female\", year])\n",
    "#             total_table.append(total_row)\n",
    "        \n",
    "#         df = pd.DataFrame(table, columns=cols)\n",
    "        \n",
    "#         df['Rank'] = pd.to_numeric(df['Rank'])\n",
    "\n",
    "#         df.set_index(['Rank'], inplace=True)\n",
    "\n",
    "#         df.sort_index(inplace=True)\n",
    "\n",
    "#         df.to_excel('./Output Files/baby_names/Top Baby Names - ' + year +'.xlsx')\n",
    "\n",
    "        \n",
    "# total_table      \n",
    "# total = pd.DataFrame(total_table, columns=[\"Name\", \"Number\", \"Sex\", \"Year\"])\n",
    "# total.to_excel('./Output Files/baby_names/baby_names_datafile.xlsx')"
   ]
  }
 ],
 "metadata": {
  "kernelspec": {
   "display_name": "Python 3",
   "language": "python",
   "name": "python3"
  },
  "language_info": {
   "codemirror_mode": {
    "name": "ipython",
    "version": 3
   },
   "file_extension": ".py",
   "mimetype": "text/x-python",
   "name": "python",
   "nbconvert_exporter": "python",
   "pygments_lexer": "ipython3",
   "version": "3.7.3"
  }
 },
 "nbformat": 4,
 "nbformat_minor": 2
}
