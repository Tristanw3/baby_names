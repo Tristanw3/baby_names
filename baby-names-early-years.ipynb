{
 "cells": [
  {
   "cell_type": "code",
   "execution_count": 1,
   "metadata": {},
   "outputs": [
    {
     "ename": "ModuleNotFoundError",
     "evalue": "No module named 'PyPDF2'",
     "output_type": "error",
     "traceback": [
      "\u001b[1;31m---------------------------------------------------------------------------\u001b[0m",
      "\u001b[1;31mModuleNotFoundError\u001b[0m                       Traceback (most recent call last)",
      "\u001b[1;32m<ipython-input-1-c6e37073a514>\u001b[0m in \u001b[0;36m<module>\u001b[1;34m\u001b[0m\n\u001b[0;32m      1\u001b[0m \u001b[1;32mimport\u001b[0m \u001b[0mre\u001b[0m\u001b[1;33m\u001b[0m\u001b[1;33m\u001b[0m\u001b[0m\n\u001b[0;32m      2\u001b[0m \u001b[1;32mimport\u001b[0m \u001b[0mpandas\u001b[0m \u001b[1;32mas\u001b[0m \u001b[0mpd\u001b[0m\u001b[1;33m\u001b[0m\u001b[1;33m\u001b[0m\u001b[0m\n\u001b[1;32m----> 3\u001b[1;33m \u001b[1;32mimport\u001b[0m \u001b[0mPyPDF2\u001b[0m \u001b[1;32mas\u001b[0m \u001b[0mpdf\u001b[0m\u001b[1;33m\u001b[0m\u001b[1;33m\u001b[0m\u001b[0m\n\u001b[0m\u001b[0;32m      4\u001b[0m \u001b[1;32mimport\u001b[0m \u001b[0mos\u001b[0m\u001b[1;33m\u001b[0m\u001b[1;33m\u001b[0m\u001b[0m\n",
      "\u001b[1;31mModuleNotFoundError\u001b[0m: No module named 'PyPDF2'"
     ]
    }
   ],
   "source": [
    "import re\n",
    "import pandas as pd\n",
    "import PyPDF2 as pdf\n",
    "import os"
   ]
  },
  {
   "cell_type": "code",
   "execution_count": null,
   "metadata": {},
   "outputs": [],
   "source": [
    "# Get Source PDFs\n",
    "direct = \"./Source/top_baby_names\"\n",
    "files_list = os.listdir(direct) \n",
    "\n",
    "files_list = ['stats-names-2000s.pdf']\n",
    "\n",
    "store = pdf.PdfFileReader(direct + '/' + files_list[0]).getPage(0)\n",
    "\n",
    "text_data = store.extractText()\n",
    "\n",
    "text_data\n"
   ]
  },
  {
   "cell_type": "code",
   "execution_count": null,
   "metadata": {},
   "outputs": [],
   "source": [
    "# Regex Pattern Creation\n",
    "year = re.compile(\"Names - (\\d+)\").findall(text_data)[0]\n",
    "\n",
    "# Ranks\n",
    "ranks = re.compile(\"\\d\\d\")\n",
    "ranks_list = ranks.findall(text_data)\n",
    "\n",
    "print(len(rank_list))\n",
    "\n",
    "ranks_list\n",
    "\n",
    "\n"
   ]
  },
  {
   "cell_type": "code",
   "execution_count": null,
   "metadata": {},
   "outputs": [],
   "source": [
    "# Names\n",
    "names = re.compile(\"[A-Z][a-z]+\")\n",
    "names_list = names.findall(text_data)\n",
    "names_list = names_list[13:]\n",
    "if len(names_list) != 200:\n",
    "    print(\"Rank list not 200 -- check\")\n",
    "\n",
    "names_list\n",
    "    \n",
    "# names = re.compile(\"(\\w[a-z]+)\\n\\d{2}\")\n",
    "# numbers = re.compile(\"\\w\\w\\n(\\d+)\")\n",
    "\n",
    "# # Regex find \n",
    "# ranks_list = ranks.findall(text_data)\n",
    "# names_list = names.findall(text_data)\n",
    "# numbers_list = numbers.findall(text_data)"
   ]
  },
  {
   "cell_type": "code",
   "execution_count": null,
   "metadata": {},
   "outputs": [],
   "source": [
    "# # Import pdf\n",
    "# cols = [\"Rank\", \"Male_Name\", \"Male_Numbers\", \"Female_Name\", \"Female_Number\", \"Year\"]\n",
    "# total_table = []\n",
    "\n",
    "# for file in files_list:\n",
    "#     store = pdf.PdfFileReader(direct + '/' + file)\n",
    "#     num_pages = store.pages\n",
    "\n",
    "#     for p in num_pages:\n",
    "\n",
    "#         text_data = p.extractText()\n",
    "#         # Regex Pattern Creation\n",
    "#         year = re.compile(\"Names - (\\d+)\").findall(text_data)[0]\n",
    "#         ranks = re.compile(\"\\n(\\d{1,3})\\n[A-Za-z]+\\n\")\n",
    "#         names = re.compile(\"(\\w[a-z]+)\\n\\d{2}\")\n",
    "#         numbers = re.compile(\"\\w\\w\\n(\\d+)\")\n",
    "        \n",
    "#         # Regex find \n",
    "#         ranks_list = ranks.findall(text_data)\n",
    "#         names_list = names.findall(text_data)\n",
    "#         numbers_list = numbers.findall(text_data)\n",
    "\n",
    "#         table = []\n",
    "\n",
    "#         # Year of sheet\n",
    "#         for row in range(0,199,2):\n",
    "#             rows = []\n",
    "#             rows.append(ranks_list[int(row/2)])\n",
    "#             rows.append(names_list[row])\n",
    "#             rows.append(numbers_list[row])\n",
    "#             rows.append(names_list[row + 1])\n",
    "#             rows.append(numbers_list[row + 1])\n",
    "#             rows.append(year)\n",
    "#             table.append(rows)\n",
    "            \n",
    "#             total_row = []\n",
    "#             total_row.extend(rows[1:3])\n",
    "#             total_row.extend([\"Male\", year])\n",
    "#             total_table.append(total_row)\n",
    "            \n",
    "#             total_row = []\n",
    "#             total_row.extend(rows[3:5])\n",
    "#             total_row.extend([\"Female\", year])\n",
    "#             total_table.append(total_row)\n",
    "        \n",
    "#         df = pd.DataFrame(table, columns=cols)\n",
    "        \n",
    "#         df['Rank'] = pd.to_numeric(df['Rank'])\n",
    "\n",
    "#         df.set_index(['Rank'], inplace=True)\n",
    "\n",
    "#         df.sort_index(inplace=True)\n",
    "\n",
    "#         df.to_excel('./Output Files/baby_names/Top Baby Names - ' + year +'.xlsx')\n",
    "\n",
    "        \n",
    "# total_table      \n",
    "# total = pd.DataFrame(total_table, columns=[\"Name\", \"Number\", \"Sex\", \"Year\"])\n",
    "# total.to_excel('./Output Files/baby_names/baby_names_datafile.xlsx')"
   ]
  }
 ],
 "metadata": {
  "kernelspec": {
   "display_name": "Python 3",
   "language": "python",
   "name": "python3"
  },
  "language_info": {
   "codemirror_mode": {
    "name": "ipython",
    "version": 3
   },
   "file_extension": ".py",
   "mimetype": "text/x-python",
   "name": "python",
   "nbconvert_exporter": "python",
   "pygments_lexer": "ipython3",
   "version": "3.7.3"
  }
 },
 "nbformat": 4,
 "nbformat_minor": 2
}
